{
  "cells": [
    {
      "cell_type": "markdown",
      "metadata": {
        "id": "view-in-github",
        "colab_type": "text"
      },
      "source": [
        "<a href=\"https://colab.research.google.com/github/ParsaSinichi/Plot_Data/blob/Development/cnn.ipynb\" target=\"_parent\"><img src=\"https://colab.research.google.com/assets/colab-badge.svg\" alt=\"Open In Colab\"/></a>"
      ]
    },
    {
      "cell_type": "code",
      "source": [
        "train_Dataset = None\n",
        "test_Dataset = None\n",
        "model = None\n",
        "\n",
        "try:\n",
        "  gc.collect()\n",
        "  torch.cuda.empty_cache()\n",
        "  del torch\n",
        "  gc.collect()\n",
        "  print(\"torch deleted...\")\n",
        "\n",
        "except:\n",
        "  print(\"torch not defined\")"
      ],
      "metadata": {
        "colab": {
          "base_uri": "https://localhost:8080/"
        },
        "id": "wEkdjziM8gri",
        "outputId": "58d801f8-aa90-4fff-e71d-b3c4106d8a51"
      },
      "execution_count": 1,
      "outputs": [
        {
          "output_type": "stream",
          "name": "stdout",
          "text": [
            "torch not defined\n"
          ]
        }
      ]
    },
    {
      "cell_type": "code",
      "execution_count": 2,
      "metadata": {
        "id": "oR6WuAAEH9v-"
      },
      "outputs": [],
      "source": [
        "import torch\n",
        "from torchvision import transforms\n",
        "import torch.nn as nn\n",
        "import sklearn\n",
        "import numpy as np\n",
        "import matplotlib.pyplot as plt\n",
        "from torch.utils.data import DataLoader, Dataset\n",
        "from sklearn.model_selection import train_test_split\n",
        "from PIL import Image\n",
        "import cv2\n",
        "import os\n",
        "import gc\n",
        "os.environ[\"TORCH_CUDA_ALLOC_CONF\"] =  \"caching_allocator\""
      ]
    },
    {
      "cell_type": "code",
      "source": [
        "if torch.cuda.is_available():\n",
        "  device = torch.device(\"cuda:0\")\n",
        "  print(\"using gpu\")\n",
        "else:\n",
        "  device = torch.device(\"cpu\")\n",
        "  print(\"cuda not available\")"
      ],
      "metadata": {
        "colab": {
          "base_uri": "https://localhost:8080/"
        },
        "id": "9NjZcY4UIFKA",
        "outputId": "616ee2ba-4e9f-4360-ff82-1492680a53aa"
      },
      "execution_count": 3,
      "outputs": [
        {
          "output_type": "stream",
          "name": "stdout",
          "text": [
            "using gpu\n"
          ]
        }
      ]
    },
    {
      "cell_type": "code",
      "source": [
        "from google.colab import drive\n",
        "drive.mount('/content/drive')"
      ],
      "metadata": {
        "id": "CqS4yno0KDFv"
      },
      "execution_count": null,
      "outputs": []
    },
    {
      "cell_type": "code",
      "execution_count": null,
      "metadata": {
        "id": "Sullw6JzH9wE"
      },
      "outputs": [],
      "source": [
        "def get_image_paths(image_folder_path):\n",
        "    paths = []\n",
        "    files = os.listdir(image_folder_path)\n",
        "    for f in files:\n",
        "        paths.append(image_folder_path+f)\n",
        "\n",
        "    return paths"
      ]
    },
    {
      "cell_type": "code",
      "execution_count": null,
      "metadata": {
        "id": "wxnsnoEhH9wF"
      },
      "outputs": [],
      "source": [
        "class PlotDataset(Dataset):\n",
        "    def __init__(self, x,y, transform=None):\n",
        "\n",
        "        self.x = x\n",
        "        self.y = y\n",
        "        self.transform = transform\n",
        "\n",
        "    def __len__(self):\n",
        "        return len(self.x)\n",
        "\n",
        "    def __getitem__(self, index):\n",
        "        img = Image.open(self.x[index])\n",
        "        #img = cv2.imread(self.x[index])\n",
        "        # print(img.shape)\n",
        "        label = self.y[index]\n",
        "        if self.transform:\n",
        "            img = self.transform(img)\n",
        "        label = torch.tensor(label,dtype=torch.float32)\n",
        "\n",
        "        return img, label\n"
      ]
    },
    {
      "cell_type": "code",
      "execution_count": null,
      "metadata": {
        "id": "ndp2GWZ5H9wG"
      },
      "outputs": [],
      "source": [
        "batch_size = 512\n",
        "image_folder_path = './drive/MyDrive/train_data/'\n",
        "labels_path = './drive/MyDrive/labels.npy'\n",
        "checkpoint_path = './model.pt'\n",
        "\n",
        "image_paths = get_image_paths(image_folder_path)\n",
        "labels = np.load(labels_path).reshape(1000,4)\n",
        "\n",
        "train_x, test_x, train_y, test_y = train_test_split(image_paths,labels,test_size=.2,random_state=42)\n",
        "\n",
        "transform = transforms.Compose([\n",
        "    transforms.Resize((256,256)),\n",
        "    transforms.ToTensor()\n",
        "])\n",
        "\n",
        "train_Dataset = DataLoader((PlotDataset(train_x,train_y,transform)),batch_size=batch_size,shuffle=True)\n",
        "test_Dataset = DataLoader(PlotDataset(test_x,test_y,transform),batch_size=128,shuffle=True)"
      ]
    },
    {
      "cell_type": "code",
      "execution_count": null,
      "metadata": {
        "id": "_-sifGk3H9wG"
      },
      "outputs": [],
      "source": [
        "class CNN(nn.Module):\n",
        "\n",
        "    def __init__(self, num_channels):\n",
        "        super(CNN,self).__init__()\n",
        "\n",
        "        self.activation = nn.ReLU()\n",
        "        self.optimizer = None\n",
        "        self.conv1 = nn.Conv2d(num_channels,16,kernel_size=3)\n",
        "        self.conv2 = nn.Conv2d(16,32,kernel_size=3)\n",
        "        self.conv3 = nn.Conv2d(32,64,kernel_size=3)\n",
        "\n",
        "\n",
        "        self.maxPool1 = nn.MaxPool2d(kernel_size=2, stride=2)\n",
        "        self.maxPool2 = nn.MaxPool2d(kernel_size=3, stride=2)\n",
        "        self.maxPool3 = nn.MaxPool2d(kernel_size=4, stride=2)\n",
        "\n",
        "\n",
        "        self.flatten = nn.Flatten(start_dim=1,end_dim=-1)\n",
        "        self.FC = nn.Linear(53824,1024)\n",
        "        self.FC2 = nn.Linear(1024,512)\n",
        "\n",
        "        self.output = nn.Linear(512,4)\n",
        "\n",
        "    def forward(self,x):\n",
        "        x = x.to(torch.float32)\n",
        "\n",
        "        x = self.conv1(x)\n",
        "        x = self.activation(x)\n",
        "        x = self.maxPool1(x)\n",
        "\n",
        "        x = self.conv2(x)\n",
        "        x = self.activation(x)\n",
        "        x = self.maxPool2(x)\n",
        "\n",
        "        x = self.conv3(x)\n",
        "        x = self.activation(x)\n",
        "        x = self.maxPool3(x)\n",
        "\n",
        "        #x = self.flatten(x)\n",
        "        x = torch.flatten(x,1)\n",
        "        x = self.FC(x)\n",
        "        x = self.activation(x)\n",
        "        x = self.FC2(x)\n",
        "        x = self.activation(x)\n",
        "\n",
        "        x = self.output(x)\n",
        "        return x\n",
        "\n",
        "    def trainer(self,epochs):\n",
        "        lr = 1e-3\n",
        "        self.optimizer = torch.optim.Adam(self.parameters(),lr=lr)\n",
        "        loss_func = nn.MSELoss()\n",
        "        best_loss = -1\n",
        "\n",
        "        for i in range(epochs):\n",
        "            train_loss = 0.0\n",
        "            counter_train = 1\n",
        "            for images, labels in train_Dataset:\n",
        "                counter_train += 1\n",
        "                images = images.to(device)\n",
        "                labels = labels.to(device)\n",
        "\n",
        "                self.optimizer.zero_grad()\n",
        "                y = self(images)\n",
        "                loss = loss_func(y,labels)\n",
        "                loss.backward()\n",
        "                train_loss += loss.detach()\n",
        "\n",
        "                self.optimizer.step()\n",
        "\n",
        "                del images\n",
        "                del labels\n",
        "                del y\n",
        "                gc.collect()\n",
        "\n",
        "            with torch.no_grad():\n",
        "              self.eval()\n",
        "              test_loss = 0.0\n",
        "              counter_test = 1\n",
        "              for images, labels in test_Dataset:\n",
        "                  counter_test += 1\n",
        "                  images = images.to(device)\n",
        "                  labels = labels.to(device)\n",
        "\n",
        "                  y = self(images)\n",
        "\n",
        "                  loss = loss_func(y,labels)\n",
        "                  test_loss += loss.detach()\n",
        "\n",
        "                  del images\n",
        "                  del labels\n",
        "                  del y\n",
        "                  gc.collect()\n",
        "\n",
        "              train_loss /= counter_train\n",
        "              test_loss /= counter_test\n",
        "\n",
        "              if best_loss < 0 or best_loss > test_loss*1.07:\n",
        "                best_loss = test_loss/len(test_x)\n",
        "                print(\"checkpoint saved!\")\n",
        "                torch.save({\n",
        "                    'epoch': i,\n",
        "                    'model_state_dict': self.state_dict(),\n",
        "                    'optimizer_state_dict': self.optimizer.state_dict(),\n",
        "                    'loss': best_loss,\n",
        "                },checkpoint_path)\n",
        "\n",
        "              print(f\"epoch: {i} -- {train_loss} --\\\n",
        "  test-loss: {test_loss}\")\n",
        "\n",
        "              with open(drive_dir,'a') as f:\n",
        "                  f.write(f'epoch: {i} -- train-loss: {train_loss} --\\\n",
        "  test-loss: {test_loss}\\n')\n",
        "              self.train()"
      ]
    },
    {
      "cell_type": "code",
      "source": [
        "drive_dir = './drive/MyDrive/log.txt'\n",
        "with open(drive_dir,'w') as f:\n",
        "    f.write(f'logging:\\n')"
      ],
      "metadata": {
        "id": "woonQlfgGNVH"
      },
      "execution_count": null,
      "outputs": []
    },
    {
      "cell_type": "code",
      "execution_count": null,
      "metadata": {
        "id": "0dadvn7hH9wH"
      },
      "outputs": [],
      "source": [
        "model = CNN(3).to(device)\n",
        "model.trainer(6000)"
      ]
    },
    {
      "cell_type": "code",
      "source": [
        "1/0"
      ],
      "metadata": {
        "id": "yTkMTCDtK00O"
      },
      "execution_count": null,
      "outputs": []
    }
  ],
  "metadata": {
    "kernelspec": {
      "display_name": "Python 3",
      "name": "python3"
    },
    "language_info": {
      "codemirror_mode": {
        "name": "ipython",
        "version": 3
      },
      "file_extension": ".py",
      "mimetype": "text/x-python",
      "name": "python",
      "nbconvert_exporter": "python",
      "pygments_lexer": "ipython3",
      "version": "3.11.4"
    },
    "colab": {
      "provenance": [],
      "gpuType": "T4",
      "include_colab_link": true
    },
    "accelerator": "GPU"
  },
  "nbformat": 4,
  "nbformat_minor": 0
}