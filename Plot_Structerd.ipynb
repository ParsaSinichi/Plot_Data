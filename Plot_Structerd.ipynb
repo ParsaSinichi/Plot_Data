{
  "nbformat": 4,
  "nbformat_minor": 0,
  "metadata": {
    "colab": {
      "provenance": [],
      "authorship_tag": "ABX9TyM4A0Z0b3lJr1Q2xPrxhRL5"
    },
    "kernelspec": {
      "name": "python3",
      "display_name": "Python 3"
    },
    "language_info": {
      "name": "python"
    }
  },
  "cells": [
    {
      "cell_type": "code",
      "execution_count": 2,
      "metadata": {
        "id": "VImbViTsSVXa"
      },
      "outputs": [],
      "source": [
        "import numpy as np\n",
        "import matplotlib.pyplot as plt\n",
        "import cv2\n"
      ]
    },
    {
      "cell_type": "code",
      "source": [
        "image=cv2.imread('plot2.png')\n",
        "cv2.imwrite('plot2.jpeg',image)"
      ],
      "metadata": {
        "colab": {
          "base_uri": "https://localhost:8080/"
        },
        "id": "7VBQ_C5Ilv66",
        "outputId": "3bff608d-0d12-46a6-9e80-06f69a1ae89d"
      },
      "execution_count": 3,
      "outputs": [
        {
          "output_type": "execute_result",
          "data": {
            "text/plain": [
              "True"
            ]
          },
          "metadata": {},
          "execution_count": 3
        }
      ]
    },
    {
      "cell_type": "code",
      "source": [
        "# getting all axis with using the most-connected-components\n",
        "def get_all_axis(img):#Horizontal:\n",
        "  #Check if img is gray or not\n",
        "  #if it is RGB :\n",
        "  if(len(img.shape)==3):\n",
        "    gray_image=cv2.cvtColor(img,cv2.COLOR_BGR2GRAY)\n",
        "  else: #img is gray\n",
        "    gray_image = img\n",
        "  negative_image = cv2.bitwise_not(gray_image)\n",
        "  binary_image = cv2.adaptiveThreshold(negative_image, 255, cv2.ADAPTIVE_THRESH_MEAN_C, \\\n",
        "                            cv2.THRESH_BINARY, 15, -2)\n",
        "  cols = binary_image.shape[1]\n",
        "  print(np.count_nonzero(binary_image==1))\n",
        "\n",
        "  horizontal_size = cols // 30\n",
        "  horizontalStructure = cv2.getStructuringElement(cv2.MORPH_RECT, (horizontal_size, 1))\n",
        "  horizontal = cv2.morphologyEx(binary_image, cv2.MORPH_OPEN, horizontalStructure)\n",
        "  rows = gray_image.shape[0]\n",
        "  verticalsize = rows // 10\n",
        "  # Create structure element for extracting vertical lines through morphology operations\n",
        "  verticalStructure = cv2.getStructuringElement(cv2.MORPH_RECT, (1, verticalsize))\n",
        "  vertical = cv2.morphologyEx(binary_image, cv2.MORPH_OPEN, verticalStructure)\n",
        "\n",
        "  temp=cv2.bitwise_or(vertical,horizontal)\n",
        "  #plt.axis('off')\n",
        "  #plt.imshow(temp,cmap='binary')\n",
        "  cv2.imwrite(\"test.jpeg\",temp)\n",
        "\n",
        "  return temp"
      ],
      "metadata": {
        "id": "uzuo-RqoSoYP"
      },
      "execution_count": 4,
      "outputs": []
    },
    {
      "cell_type": "code",
      "source": [
        "def most_connected_component(img):# a GrayScale image\n",
        "\n",
        "  _, img = cv2.threshold(img, 127, 255, cv2.THRESH_BINARY)\n",
        "  num_labels, labels = cv2.connectedComponents(img)\n",
        "\n",
        "  # Calculate the area of each component\n",
        "  component_sizes = np.bincount(labels.flatten())\n",
        "\n",
        "  # Find the label of the largest component (excluding background label)\n",
        "  largest_component_label = np.argmax(component_sizes[0:]) + 1\n",
        "\n",
        "  # Create a mask for the largest component\n",
        "  largest_component_mask = (labels == largest_component_label).astype(np.uint8) * 255\n",
        "\n",
        "  # Apply the mask to the original image\n",
        "  largest_component_img = cv2.bitwise_and(img, img, mask=largest_component_mask)\n",
        "  cv2.imwrite(\"axis.jpeg\",largest_component_img)\n",
        "\n",
        "  # Display the result\n",
        "  #plt.figure(figsize=[10, 8])\n",
        "  #plt.subplot(131); plt.imshow(img, cmap='gray'); plt.title(\"Original\")\n",
        "  #plt.subplot(132); plt.imshow(largest_component_mask, cmap='gray'); plt.title(\"Largest Component Mask\")\n",
        "  #plt.subplot(133); plt.imshow(largest_component_img, cmap='gray'); plt.title(\"Largest Component Image\")\n",
        "  #plt.show()\n",
        "  return(largest_component_img)"
      ],
      "metadata": {
        "id": "R4Zh04OkXuGF"
      },
      "execution_count": 5,
      "outputs": []
    },
    {
      "cell_type": "code",
      "source": [
        "def Left_most_connected_component(img):\n",
        "  \"\"\"\n",
        "  it reads  an  image, then we check the dimension , if it is an grayscale image,\n",
        "  then we find all of the connected components and after that we find the LeftMost component\n",
        "  \"\"\"\n",
        "  if (len(img.shape  ) ==3): # it means that the image is not rgb\n",
        "    img = cv2.cvtColor(img, cv2.COLOR_BGR2GRAY)\n",
        "  else :\n",
        "   # _, img = cv2.threshold(img, 127, 255, cv2.THRESH_BINARY)\n",
        "    num_labels, labels = cv2.connectedComponents(img)\n",
        "    min=np.inf\n",
        "    index=0\n",
        "    for i in range((num_labels)):\n",
        "      component_mask=(labels == np.argmax(sizes[i:]) + 1)\n",
        "      x = [subarray[0] for subarray in (np.argwhere(((component_mask==1))))]# Height\n",
        "      y =[subarray[1] for subarray in (np.argwhere(((component_mask==1))))]# Width\n",
        "      if (sorted(y)[0]<min)  :# finding the left most y :\n",
        "        min=sorted(y)[0]\n",
        "        index=i\n",
        "      left_most_component_mask=(labels == np.argmax(sizes[index:]) + 1)\n",
        "\n",
        "    return (left_most_component_mask)"
      ],
      "metadata": {
        "id": "CTKtWqkaZQDu"
      },
      "execution_count": 43,
      "outputs": []
    },
    {
      "cell_type": "code",
      "source": [
        "img.shape"
      ],
      "metadata": {
        "colab": {
          "base_uri": "https://localhost:8080/"
        },
        "id": "wIwdJR_edTIn",
        "outputId": "a0e37df9-07ab-4c39-cc2e-836b7fcb64f9"
      },
      "execution_count": 32,
      "outputs": [
        {
          "output_type": "execute_result",
          "data": {
            "text/plain": [
              "(420, 560)"
            ]
          },
          "metadata": {},
          "execution_count": 32
        }
      ]
    },
    {
      "cell_type": "code",
      "source": [
        "if(len(axis.shape)) =="
      ],
      "metadata": {
        "colab": {
          "base_uri": "https://localhost:8080/"
        },
        "id": "G5nPBRvSeOQt",
        "outputId": "4d851dba-2705-488d-b076-c50b949f77ee"
      },
      "execution_count": 42,
      "outputs": [
        {
          "output_type": "execute_result",
          "data": {
            "text/plain": [
              "2"
            ]
          },
          "metadata": {},
          "execution_count": 42
        }
      ]
    },
    {
      "cell_type": "code",
      "source": [
        "img=cv2.imread('plot3.png',0)# Reading the original image\n",
        "axis=get_all_axis(img)\n",
        "asd=Left_most_connected_component(axis)\n",
        "plt.imshow(axis,cmap='gray')"
      ],
      "metadata": {
        "colab": {
          "base_uri": "https://localhost:8080/",
          "height": 470
        },
        "id": "5ShIQLNfe0ZJ",
        "outputId": "ccd67ce4-77f3-4a65-f1c0-0cd345a7d62a"
      },
      "execution_count": 46,
      "outputs": [
        {
          "output_type": "stream",
          "name": "stdout",
          "text": [
            "0\n"
          ]
        },
        {
          "output_type": "execute_result",
          "data": {
            "text/plain": [
              "<matplotlib.image.AxesImage at 0x7aa643662b60>"
            ]
          },
          "metadata": {},
          "execution_count": 46
        },
        {
          "output_type": "display_data",
          "data": {
            "text/plain": [
              "<Figure size 640x480 with 1 Axes>"
            ],
            "image/png": "[encoded data removed]"
          },
          "metadata": {}
        }
      ]
    },
    {
      "cell_type": "code",
      "source": [
        "#________________________________________ Good ______________________\n",
        "img=cv2.imread('plot3.png',0)# Reading the original image\n",
        "axis=get_all_axis(img)\n",
        "asd=Left_most_connected_component(axis)\n",
        "plt.imshow(asd,cmap='gray')"
      ],
      "metadata": {
        "colab": {
          "base_uri": "https://localhost:8080/",
          "height": 470
        },
        "id": "Wd3wN6cVc_Ct",
        "outputId": "256379e5-8d75-468c-b500-a7ffa0ea7216"
      },
      "execution_count": 45,
      "outputs": [
        {
          "output_type": "stream",
          "name": "stdout",
          "text": [
            "0\n"
          ]
        },
        {
          "output_type": "execute_result",
          "data": {
            "text/plain": [
              "<matplotlib.image.AxesImage at 0x7aa642682800>"
            ]
          },
          "metadata": {},
          "execution_count": 45
        },
        {
          "output_type": "display_data",
          "data": {
            "text/plain": [
              "<Figure size 640x480 with 1 Axes>"
            ],
            "image/png": "[encoded data removed]"
          },
          "metadata": {}
        }
      ]
    },
    {
      "cell_type": "markdown",
      "source": [],
      "metadata": {
        "id": "BZrCV6gEcJ9l"
      }
    },
    {
      "cell_type": "code",
      "source": [
        "img=cv2.imread('plot3.png')# Reading the original image\n",
        "z=get_all_axis(img)\n",
        "Axis_image=cv2.imread(\"test.jpeg\",0)# reading the Axis image\n",
        "Axis_component=most_connected_component(Axis_image)"
      ],
      "metadata": {
        "colab": {
          "base_uri": "https://localhost:8080/"
        },
        "id": "IWMP8tfcWjUW",
        "outputId": "64c1b9ef-fe12-4e73-ed29-88bd1533c073"
      },
      "execution_count": 16,
      "outputs": [
        {
          "output_type": "stream",
          "name": "stdout",
          "text": [
            "0\n"
          ]
        }
      ]
    },
    {
      "cell_type": "code",
      "source": [
        "plt.axis('off')\n",
        "plt.imshow(Axis_component,cmap='binary')"
      ],
      "metadata": {
        "colab": {
          "base_uri": "https://localhost:8080/",
          "height": 423
        },
        "id": "ZqkSIHfeW-Vz",
        "outputId": "c2beb569-a973-4615-8581-42775ff44f19"
      },
      "execution_count": 17,
      "outputs": [
        {
          "output_type": "execute_result",
          "data": {
            "text/plain": [
              "<matplotlib.image.AxesImage at 0x7aa643527490>"
            ]
          },
          "metadata": {},
          "execution_count": 17
        },
        {
          "output_type": "display_data",
          "data": {
            "text/plain": [
              "<Figure size 640x480 with 1 Axes>"
            ],
            "image/png": "[encoded data removed]"
          },
          "metadata": {}
        }
      ]
    },
    {
      "cell_type": "code",
      "source": [
        "import matplotlib.pyplot as plt\n",
        "import numpy as np\n",
        "import cv2\n",
        "\n",
        "img = cv2.imread(\"test.jpeg\", 0)\n",
        "_, img = cv2.threshold(img, 127, 255, cv2.THRESH_BINARY)\n",
        "num_labels, labels = cv2.connectedComponents(img)\n",
        "\n",
        "# Map component labels to hue val, 0-179 is the hue range in OpenCV\n",
        "label_hue = np.uint8(179*labels/np.max(labels))\n",
        "blank = np.ones_like(img) * 255\n",
        "labeled_img = cv2.merge([label_hue, blank, blank])\n",
        "\n",
        "# Converting cvt to BGR\n",
        "labeled_img = cv2.cvtColor(labeled_img, cv2.COLOR_HSV2BGR)\n",
        "\n",
        "# set bg label to black\n",
        "labeled_img[label_hue==0] = 0\n",
        "\n",
        "\n",
        "plt.figure(figsize=[10,8])\n",
        "plt.subplot(121);plt.imshow(img, cmap='gray');plt.title(\"Original\");\n",
        "plt.subplot(122);plt.imshow(labeled_img, cmap='gray');plt.title(\"labeled image\");"
      ],
      "metadata": {
        "colab": {
          "base_uri": "https://localhost:8080/",
          "height": 347
        },
        "id": "VE0WwqW5YHs5",
        "outputId": "143bfd0c-bdcc-421c-99fb-847faa642f88"
      },
      "execution_count": 18,
      "outputs": [
        {
          "output_type": "display_data",
          "data": {
            "text/plain": [
              "<Figure size 1000x800 with 2 Axes>"
            ],
            "image/png": "[encoded data removed]"
          },
          "metadata": {}
        }
      ]
    },
    {
      "cell_type": "code",
      "source": [],
      "metadata": {
        "colab": {
          "base_uri": "https://localhost:8080/"
        },
        "id": "Qi8k9hoqXJqN",
        "outputId": "f5a2fe24-3efd-4db4-c91f-16b481538a77"
      },
      "execution_count": null,
      "outputs": [
        {
          "output_type": "execute_result",
          "data": {
            "text/plain": [
              "319"
            ]
          },
          "metadata": {},
          "execution_count": 30
        }
      ]
    },
    {
      "cell_type": "code",
      "source": [
        "plt.imshow(labels,cmap='binary')"
      ],
      "metadata": {
        "colab": {
          "base_uri": "https://localhost:8080/",
          "height": 453
        },
        "id": "es6btc8VV7lS",
        "outputId": "5390cd74-b745-416a-f8fc-de637e5c225c"
      },
      "execution_count": null,
      "outputs": [
        {
          "output_type": "execute_result",
          "data": {
            "text/plain": [
              "<matplotlib.image.AxesImage at 0x7b7729ff60e0>"
            ]
          },
          "metadata": {},
          "execution_count": 162
        },
        {
          "output_type": "display_data",
          "data": {
            "text/plain": [
              "<Figure size 640x480 with 1 Axes>"
            ],
            "image/png": "[encoded data removed]"
          },
          "metadata": {}
        }
      ]
    },
    {
      "cell_type": "code",
      "source": [
        "import matplotlib.pyplot as plt\n",
        "import numpy as np\n",
        "import cv2\n",
        "\n",
        "img = cv2.imread(\"test.jpeg\", 0)\n",
        "_, img = cv2.threshold(img, 127, 255, cv2.THRESH_BINARY)\n",
        "num_labels, labels = cv2.connectedComponents(img)\n",
        "\n",
        "# Find the size of each connected component\n",
        "sizes = np.bincount(labels.flatten())\n",
        "\n",
        "# Find the label of the largest connected component\n",
        "largest_label = np.argmax(sizes[0:]) + 1  # Ignore the background label (0)\n",
        "\n",
        "# Create a binary mask for the largest connected component\n",
        "largest_component_mask = (labels == largest_label).astype(np.uint8) * 255\n",
        "max=0\n",
        "for i in range(len(sizes)):\n",
        "  \"\"\" Looping through each connected component and finding the one with\n",
        "  the most average => hope that is the axis\n",
        "\"\"\"\n",
        "  largest_component_mask = (labels == np.argmax(sizes[i:]) + 1).astype(np.uint8) * 255\n",
        "  plt.imshow(largest_component_mask,cmap='binary')\n",
        "  # if np.mean(largest_component_mask)>max:\n",
        "        # max=i\n",
        "\n",
        "# largest_component_mask= (labels == np.argmax(sizes[max:]) + 1).astype(np.uint8) * 255"
      ],
      "metadata": {
        "id": "Wd4Hp5I5Zix9",
        "colab": {
          "base_uri": "https://localhost:8080/",
          "height": 435
        },
        "outputId": "f6635d25-def8-461b-ba20-ed907142d8e4"
      },
      "execution_count": 19,
      "outputs": [
        {
          "output_type": "display_data",
          "data": {
            "text/plain": [
              "<Figure size 640x480 with 1 Axes>"
            ],
            "image/png": "[encoded data removed]"
          },
          "metadata": {}
        }
      ]
    },
    {
      "cell_type": "code",
      "source": [
        "largest_component_mask = (labels == np.argmax(sizes[1:]) + 1).astype(np.uint8) * 255\n",
        "plt.imshow(largest_component_mask,cmap='binary')\n"
      ],
      "metadata": {
        "colab": {
          "base_uri": "https://localhost:8080/",
          "height": 453
        },
        "id": "kEEk0TF2bYif",
        "outputId": "ed4fa7ec-623f-4cc8-a385-eb77cf2c0579"
      },
      "execution_count": null,
      "outputs": [
        {
          "output_type": "execute_result",
          "data": {
            "text/plain": [
              "<matplotlib.image.AxesImage at 0x7b7729f218d0>"
            ]
          },
          "metadata": {},
          "execution_count": 121
        },
        {
          "output_type": "display_data",
          "data": {
            "text/plain": [
              "<Figure size 640x480 with 1 Axes>"
            ],
            "image/png": "[encoded data removed]"
          },
          "metadata": {}
        }
      ]
    },
    {
      "cell_type": "code",
      "source": [
        "(np.argwhere(((lcm==1))))"
      ],
      "metadata": {
        "id": "rU0mrxx-eUS3"
      },
      "execution_count": null,
      "outputs": []
    },
    {
      "cell_type": "code",
      "source": [
        "cv2.imwrite('largest_component_mask.jpeg',largest_component_mask)"
      ],
      "metadata": {
        "colab": {
          "base_uri": "https://localhost:8080/"
        },
        "id": "QohcKyDbgAof",
        "outputId": "e57fbf75-8d2d-4868-f8ff-b6bb59fb641e"
      },
      "execution_count": null,
      "outputs": [
        {
          "output_type": "execute_result",
          "data": {
            "text/plain": [
              "True"
            ]
          },
          "metadata": {},
          "execution_count": 123
        }
      ]
    },
    {
      "cell_type": "code",
      "source": [
        "lcm=cv2.imread(\"largest_component_mask.jpeg\",0)"
      ],
      "metadata": {
        "colab": {
          "base_uri": "https://localhost:8080/"
        },
        "id": "lRUFiaFwnE-Z",
        "outputId": "40f1e716-b206-4779-931c-efc6caa8db76"
      },
      "execution_count": null,
      "outputs": [
        {
          "output_type": "execute_result",
          "data": {
            "text/plain": [
              "True"
            ]
          },
          "metadata": {},
          "execution_count": 128
        }
      ]
    },
    {
      "cell_type": "code",
      "source": [
        "x = [subarray[0] for subarray in (np.argwhere(((lcm==1))))]# Height\n",
        "y =[subarray[1] for subarray in (np.argwhere(((lcm==1))))]# Width\n",
        "# then we need to loop through each components then find the one with the Minimum Y"
      ],
      "metadata": {
        "id": "2yrmiPetqJpQ"
      },
      "execution_count": null,
      "outputs": []
    },
    {
      "cell_type": "code",
      "source": [
        "len(labels)"
      ],
      "metadata": {
        "colab": {
          "base_uri": "https://localhost:8080/"
        },
        "id": "L44wXm7IvDyO",
        "outputId": "863ff8cd-9ec7-4809-d5ff-f8109cd69235"
      },
      "execution_count": null,
      "outputs": [
        {
          "output_type": "execute_result",
          "data": {
            "text/plain": [
              "319"
            ]
          },
          "metadata": {},
          "execution_count": 148
        }
      ]
    },
    {
      "cell_type": "code",
      "source": [
        "min=np.inf\n",
        "index=0\n",
        "for i in range((num_labels)):\n",
        "  component_mask=(labels == np.argmax(sizes[i:]) + 1)\n",
        "  x = [subarray[0] for subarray in (np.argwhere(((component_mask==1))))]# Height\n",
        "  y =[subarray[1] for subarray in (np.argwhere(((component_mask==1))))]# Width\n",
        "  if (sorted(y)[0]<min)  :# finding the left most y :\n",
        "    min=sorted(y)[0]\n",
        "    index=i"
      ],
      "metadata": {
        "id": "gjdc_hBlqMO7"
      },
      "execution_count": 20,
      "outputs": []
    },
    {
      "cell_type": "code",
      "source": [
        "min,index"
      ],
      "metadata": {
        "colab": {
          "base_uri": "https://localhost:8080/"
        },
        "id": "xZrN4NUpvZLI",
        "outputId": "4f1340f8-a26e-44a2-e14b-ad6c6433614a"
      },
      "execution_count": 21,
      "outputs": [
        {
          "output_type": "execute_result",
          "data": {
            "text/plain": [
              "(73, 0)"
            ]
          },
          "metadata": {},
          "execution_count": 21
        }
      ]
    },
    {
      "cell_type": "code",
      "source": [
        "np.count_nonzero(component_mask==True)"
      ],
      "metadata": {
        "colab": {
          "base_uri": "https://localhost:8080/"
        },
        "id": "isPe7tupYmYE",
        "outputId": "8485b5ae-e441-4d69-ee69-1e0a47ef2b87"
      },
      "execution_count": 26,
      "outputs": [
        {
          "output_type": "execute_result",
          "data": {
            "text/plain": [
              "1553"
            ]
          },
          "metadata": {},
          "execution_count": 26
        }
      ]
    },
    {
      "cell_type": "code",
      "source": [
        "component_mask=(labels == np.argmax(sizes[index:]) + 1)\n",
        "plt.imshow(component_mask,cmap='binary')"
      ],
      "metadata": {
        "colab": {
          "base_uri": "https://localhost:8080/",
          "height": 452
        },
        "id": "qn_Bjrn-vQKF",
        "outputId": "d598d442-d0e8-4c47-85d3-225151b4cd70"
      },
      "execution_count": 22,
      "outputs": [
        {
          "output_type": "execute_result",
          "data": {
            "text/plain": [
              "<matplotlib.image.AxesImage at 0x7aa6433f0730>"
            ]
          },
          "metadata": {},
          "execution_count": 22
        },
        {
          "output_type": "display_data",
          "data": {
            "text/plain": [
              "<Figure size 640x480 with 1 Axes>"
            ],
            "image/png": "[encoded data removed]"
          },
          "metadata": {}
        }
      ]
    },
    {
      "cell_type": "code",
      "source": [
        "index"
      ],
      "metadata": {
        "colab": {
          "base_uri": "https://localhost:8080/"
        },
        "id": "5gf7cQLhvNI2",
        "outputId": "22c44960-0a84-43e9-89a8-c26d623d07df"
      },
      "execution_count": null,
      "outputs": [
        {
          "output_type": "execute_result",
          "data": {
            "text/plain": [
              "0"
            ]
          },
          "metadata": {},
          "execution_count": 152
        }
      ]
    },
    {
      "cell_type": "code",
      "source": [
        "(np.argwhere(((lcm==1))))"
      ],
      "metadata": {
        "colab": {
          "base_uri": "https://localhost:8080/"
        },
        "id": "pBBm6IkZd6i8",
        "outputId": "1f89fc09-3a41-4cca-cd3f-791fdd699747"
      },
      "execution_count": null,
      "outputs": [
        {
          "output_type": "execute_result",
          "data": {
            "text/plain": [
              "array([[ 56,  56],\n",
              "       [ 56,  60],\n",
              "       [ 56,  61],\n",
              "       [ 56, 281],\n",
              "       [ 56, 291],\n",
              "       [ 56, 293],\n",
              "       [ 57, 286],\n",
              "       [ 57, 288],\n",
              "       [ 57, 289],\n",
              "       [ 58,  57],\n",
              "       [ 59, 287],\n",
              "       [ 59, 294],\n",
              "       [ 60, 280],\n",
              "       [ 60, 281],\n",
              "       [ 60, 284],\n",
              "       [ 60, 291],\n",
              "       [ 60, 293],\n",
              "       [ 61, 288],\n",
              "       [ 61, 291],\n",
              "       [ 61, 294],\n",
              "       [ 62,  56],\n",
              "       [ 62, 280],\n",
              "       [ 62, 284],\n",
              "       [ 62, 286],\n",
              "       [ 62, 288],\n",
              "       [ 62, 292],\n",
              "       [ 63,  56],\n",
              "       [ 63, 281],\n",
              "       [ 64, 292],\n",
              "       [ 65, 292],\n",
              "       [ 66, 292],\n",
              "       [ 67, 292],\n",
              "       [ 68, 292],\n",
              "       [ 69, 292],\n",
              "       [ 70, 292],\n",
              "       [ 71, 292],\n",
              "       [ 72, 292],\n",
              "       [ 73, 292],\n",
              "       [ 74, 292],\n",
              "       [ 75, 292],\n",
              "       [ 76, 292],\n",
              "       [ 77, 292],\n",
              "       [ 78, 292],\n",
              "       [ 79, 292],\n",
              "       [ 80, 292],\n",
              "       [ 81, 292],\n",
              "       [ 82, 292],\n",
              "       [ 83, 292],\n",
              "       [ 84, 292],\n",
              "       [ 85, 292],\n",
              "       [ 86, 292],\n",
              "       [ 87, 292],\n",
              "       [ 88, 292],\n",
              "       [ 89, 292],\n",
              "       [ 90, 292],\n",
              "       [ 91, 292],\n",
              "       [ 92, 292],\n",
              "       [ 93, 292],\n",
              "       [ 94, 292],\n",
              "       [ 95, 292],\n",
              "       [ 96, 292],\n",
              "       [ 97, 292],\n",
              "       [ 98, 292],\n",
              "       [ 99, 292],\n",
              "       [100, 292],\n",
              "       [101, 292],\n",
              "       [102, 292],\n",
              "       [103, 292],\n",
              "       [104, 292],\n",
              "       [105, 292],\n",
              "       [106, 292],\n",
              "       [107, 292],\n",
              "       [108, 292],\n",
              "       [109, 292],\n",
              "       [110, 292],\n",
              "       [111, 292],\n",
              "       [112, 292],\n",
              "       [113, 292],\n",
              "       [114, 292],\n",
              "       [115, 292],\n",
              "       [116, 292],\n",
              "       [117, 292],\n",
              "       [118, 292],\n",
              "       [119, 292],\n",
              "       [120, 292],\n",
              "       [121, 292],\n",
              "       [122, 292],\n",
              "       [123, 292],\n",
              "       [124, 292],\n",
              "       [125, 292],\n",
              "       [126, 292],\n",
              "       [127, 292],\n",
              "       [128, 292],\n",
              "       [129, 292],\n",
              "       [130, 292],\n",
              "       [131, 292],\n",
              "       [132, 292],\n",
              "       [133, 292],\n",
              "       [134, 292],\n",
              "       [135, 292],\n",
              "       [136, 292],\n",
              "       [137, 292],\n",
              "       [138, 292],\n",
              "       [139, 292],\n",
              "       [140, 292],\n",
              "       [141, 292],\n",
              "       [142, 292],\n",
              "       [143, 292],\n",
              "       [144, 292],\n",
              "       [145, 292],\n",
              "       [146, 292],\n",
              "       [147, 292],\n",
              "       [148, 292],\n",
              "       [149, 292],\n",
              "       [150, 292],\n",
              "       [151, 292],\n",
              "       [152, 292],\n",
              "       [153, 292],\n",
              "       [154, 292],\n",
              "       [155, 292],\n",
              "       [156, 292],\n",
              "       [157, 292],\n",
              "       [158, 292],\n",
              "       [159, 292],\n",
              "       [160, 292],\n",
              "       [161, 292],\n",
              "       [162, 292],\n",
              "       [163, 292],\n",
              "       [164, 292],\n",
              "       [165, 292],\n",
              "       [166, 292],\n",
              "       [167, 292],\n",
              "       [168, 292],\n",
              "       [169, 292],\n",
              "       [170, 292],\n",
              "       [171, 292],\n",
              "       [172, 292],\n",
              "       [173, 292],\n",
              "       [174, 292],\n",
              "       [175, 292],\n",
              "       [176, 292],\n",
              "       [177, 292],\n",
              "       [178, 292],\n",
              "       [179, 292],\n",
              "       [180, 292],\n",
              "       [181, 292],\n",
              "       [182, 292],\n",
              "       [183, 292],\n",
              "       [184, 292],\n",
              "       [185, 292],\n",
              "       [186, 292],\n",
              "       [187, 292],\n",
              "       [188, 292],\n",
              "       [189, 292],\n",
              "       [190, 292],\n",
              "       [191, 292],\n",
              "       [192, 292],\n",
              "       [193, 292],\n",
              "       [194, 292],\n",
              "       [195, 292],\n",
              "       [196, 292],\n",
              "       [197, 292],\n",
              "       [198, 292],\n",
              "       [199, 292],\n",
              "       [200, 292],\n",
              "       [201, 292],\n",
              "       [202, 292],\n",
              "       [203, 292],\n",
              "       [204, 292],\n",
              "       [205, 292],\n",
              "       [206, 292],\n",
              "       [207, 292],\n",
              "       [208, 292],\n",
              "       [209, 292],\n",
              "       [210, 292],\n",
              "       [211, 292],\n",
              "       [212, 292],\n",
              "       [213, 292],\n",
              "       [214, 292],\n",
              "       [215, 292],\n",
              "       [216, 292],\n",
              "       [217, 292],\n",
              "       [218, 292],\n",
              "       [219, 292],\n",
              "       [220, 292],\n",
              "       [221, 292],\n",
              "       [222, 292],\n",
              "       [223, 292],\n",
              "       [224, 292],\n",
              "       [225, 292],\n",
              "       [226, 292],\n",
              "       [227, 292],\n",
              "       [228, 292],\n",
              "       [229, 292],\n",
              "       [230, 292],\n",
              "       [231, 292],\n",
              "       [232, 292],\n",
              "       [233, 292],\n",
              "       [234, 292],\n",
              "       [235, 292],\n",
              "       [236, 292],\n",
              "       [237, 292],\n",
              "       [238, 292],\n",
              "       [239, 292],\n",
              "       [240,  56],\n",
              "       [240,  61],\n",
              "       [240, 291],\n",
              "       [241,  63],\n",
              "       [241, 293],\n",
              "       [241, 295],\n",
              "       [242,  60],\n",
              "       [242,  61],\n",
              "       [242, 291],\n",
              "       [242, 294],\n",
              "       [243,  63],\n",
              "       [244, 294],\n",
              "       [245, 293],\n",
              "       [245, 295],\n",
              "       [246,  57],\n",
              "       [246, 295],\n",
              "       [247,  63],\n",
              "       [247, 288]])"
            ]
          },
          "metadata": {},
          "execution_count": 136
        }
      ]
    },
    {
      "cell_type": "code",
      "source": [
        "np.count_nonzero(comp==1)"
      ],
      "metadata": {
        "colab": {
          "base_uri": "https://localhost:8080/"
        },
        "id": "LCd3B3rMj2f2",
        "outputId": "8640a69d-8fc9-444f-ac20-f2ba80f0ca4e"
      },
      "execution_count": null,
      "outputs": [
        {
          "output_type": "execute_result",
          "data": {
            "text/plain": [
              "222"
            ]
          },
          "metadata": {},
          "execution_count": 100
        }
      ]
    },
    {
      "cell_type": "code",
      "source": [
        "np.argwhere(labels == np.argmax(sizes[2:]))"
      ],
      "metadata": {
        "colab": {
          "base_uri": "https://localhost:8080/"
        },
        "id": "2fA2PsiTc0V-",
        "outputId": "9ce0b6af-61ac-4c46-f611-d096a0434ab3"
      },
      "execution_count": null,
      "outputs": [
        {
          "output_type": "execute_result",
          "data": {
            "text/plain": [
              "array([[  0,   0],\n",
              "       [  0,   1],\n",
              "       [  0,   2],\n",
              "       ...,\n",
              "       [318, 317],\n",
              "       [318, 318],\n",
              "       [318, 319]])"
            ]
          },
          "metadata": {},
          "execution_count": 92
        }
      ]
    },
    {
      "cell_type": "code",
      "source": [
        "largest_component_mask.shape"
      ],
      "metadata": {
        "colab": {
          "base_uri": "https://localhost:8080/"
        },
        "id": "VsN5sXOadnhf",
        "outputId": "8ecdc891-993a-4278-fe18-ddd6c839fb5a"
      },
      "execution_count": null,
      "outputs": [
        {
          "output_type": "execute_result",
          "data": {
            "text/plain": [
              "(319, 320)"
            ]
          },
          "metadata": {},
          "execution_count": 57
        }
      ]
    },
    {
      "cell_type": "code",
      "source": [
        "len(np.argwhere(largest_component_mask))"
      ],
      "metadata": {
        "colab": {
          "base_uri": "https://localhost:8080/"
        },
        "id": "nI4pU5xxbfPD",
        "outputId": "692f2093-1555-4b39-ee57-b2049ea074b3"
      },
      "execution_count": null,
      "outputs": [
        {
          "output_type": "execute_result",
          "data": {
            "text/plain": [
              "1670"
            ]
          },
          "metadata": {},
          "execution_count": 51
        }
      ]
    },
    {
      "cell_type": "code",
      "source": [
        "largest_label = np.argmax(sizes[0:]) + 1  # Ignore the background label (0)\n",
        "largest_label2 = np.argmax(sizes[1:]) + 1  # Ignore the background label (0)\n",
        "largest_label,largest_label2,np.argmax(sizes[2:]) + 1,np.argmax(sizes[3:]) + 1"
      ],
      "metadata": {
        "colab": {
          "base_uri": "https://localhost:8080/"
        },
        "id": "7C44FpWZaE0X",
        "outputId": "1d3e34a3-8325-402e-82e9-814d45febcd1"
      },
      "execution_count": null,
      "outputs": [
        {
          "output_type": "execute_result",
          "data": {
            "text/plain": [
              "(1, 2, 1, 3)"
            ]
          },
          "metadata": {},
          "execution_count": 13
        }
      ]
    },
    {
      "cell_type": "code",
      "source": [
        "np.argmax(sizes)"
      ],
      "metadata": {
        "colab": {
          "base_uri": "https://localhost:8080/"
        },
        "id": "7kg7VkNcfX2y",
        "outputId": "d745359a-ee37-464d-b357-9f59c0cd19d5"
      },
      "execution_count": null,
      "outputs": [
        {
          "output_type": "execute_result",
          "data": {
            "text/plain": [
              "0"
            ]
          },
          "metadata": {},
          "execution_count": 109
        }
      ]
    },
    {
      "cell_type": "code",
      "source": [
        "largest_component_mask = (labels == np.argmax(sizes[1:]) + 1).astype(np.uint8) * 255\n",
        "np.mean(largest_component_mask)"
      ],
      "metadata": {
        "colab": {
          "base_uri": "https://localhost:8080/"
        },
        "id": "c4fWLT1eag99",
        "outputId": "8d7f0d18-68ec-4c72-8dc5-906720b4a625"
      },
      "execution_count": null,
      "outputs": [
        {
          "output_type": "execute_result",
          "data": {
            "text/plain": [
              "4.171728056426332"
            ]
          },
          "metadata": {},
          "execution_count": 14
        }
      ]
    },
    {
      "cell_type": "code",
      "source": [
        "sizes"
      ],
      "metadata": {
        "colab": {
          "base_uri": "https://localhost:8080/"
        },
        "id": "ll5FpPbGbZwZ",
        "outputId": "6be36450-ad1e-4995-9cdc-5c91a0aa20e6"
      },
      "execution_count": null,
      "outputs": [
        {
          "output_type": "execute_result",
          "data": {
            "text/plain": [
              "array([100290,     10,   1670,     12,     11,     28,     13,     13,\n",
              "           10,     10,     13])"
            ]
          },
          "metadata": {},
          "execution_count": 114
        }
      ]
    },
    {
      "cell_type": "code",
      "source": [
        "plt.axis('off')\n",
        "plt.imshow(largest_component_mask,cmap='binary')"
      ],
      "metadata": {
        "colab": {
          "base_uri": "https://localhost:8080/",
          "height": 424
        },
        "id": "i9VY53zQY4He",
        "outputId": "dd6235e0-5c51-498b-f9c4-20d48b93cf47"
      },
      "execution_count": null,
      "outputs": [
        {
          "output_type": "execute_result",
          "data": {
            "text/plain": [
              "<matplotlib.image.AxesImage at 0x7f2ffe968790>"
            ]
          },
          "metadata": {},
          "execution_count": 119
        },
        {
          "output_type": "display_data",
          "data": {
            "text/plain": [
              "<Figure size 640x480 with 1 Axes>"
            ],
            "image/png": "[encoded data removed]"
          },
          "metadata": {}
        }
      ]
    },
    {
      "cell_type": "code",
      "source": [
        "np.mean(largest_component_mask)"
      ],
      "metadata": {
        "colab": {
          "base_uri": "https://localhost:8080/"
        },
        "id": "6iSReyxgfnM0",
        "outputId": "ce4635b8-646b-44c3-9bcf-cf10d9181696"
      },
      "execution_count": null,
      "outputs": [
        {
          "output_type": "execute_result",
          "data": {
            "text/plain": [
              "4.171728056426332"
            ]
          },
          "metadata": {},
          "execution_count": 71
        }
      ]
    },
    {
      "cell_type": "code",
      "source": [
        "max=0\n",
        "for i in range(len(sizes)):\n",
        "  \"\"\" Looping through each connected component and finding the one with\n",
        "  the most average => hope that is the axis\n",
        "\"\"\"\n",
        "  largest_component_mask = (labels == np.argmax(sizes[i:]) + 1).astype(np.uint8) * 255\n",
        "  if np.mean(largest_component_mask)>max:\n",
        "        max=i\n",
        "        print(np.mean(largest_component_mask))\n",
        "max"
      ],
      "metadata": {
        "colab": {
          "base_uri": "https://localhost:8080/"
        },
        "id": "pjOlkAlBbhGt",
        "outputId": "ca4d363a-e8de-4f29-efd8-9ca3942322fa"
      },
      "execution_count": null,
      "outputs": [
        {
          "output_type": "stream",
          "name": "stdout",
          "text": [
            "0.02498040752351097\n",
            "4.171728056426332\n",
            "4.171728056426332\n",
            "4.171728056426332\n"
          ]
        },
        {
          "output_type": "execute_result",
          "data": {
            "text/plain": [
              "9"
            ]
          },
          "metadata": {},
          "execution_count": 113
        }
      ]
    },
    {
      "cell_type": "code",
      "source": [
        "labels"
      ],
      "metadata": {
        "colab": {
          "base_uri": "https://localhost:8080/"
        },
        "id": "j0oFAKluiEd4",
        "outputId": "972c0a43-3f4e-4178-bc8e-ad533b953a77"
      },
      "execution_count": null,
      "outputs": [
        {
          "output_type": "execute_result",
          "data": {
            "text/plain": [
              "array([[0, 0, 0, ..., 0, 0, 0],\n",
              "       [0, 0, 0, ..., 0, 0, 0],\n",
              "       [0, 0, 0, ..., 0, 0, 0],\n",
              "       ...,\n",
              "       [0, 0, 0, ..., 0, 0, 0],\n",
              "       [0, 0, 0, ..., 0, 0, 0],\n",
              "       [0, 0, 0, ..., 0, 0, 0]], dtype=int32)"
            ]
          },
          "metadata": {},
          "execution_count": 108
        }
      ]
    },
    {
      "cell_type": "code",
      "source": [
        "max"
      ],
      "metadata": {
        "colab": {
          "base_uri": "https://localhost:8080/"
        },
        "id": "OOOZqltBhTpD",
        "outputId": "cf59a6eb-0133-478f-b080-a653770894d8"
      },
      "execution_count": null,
      "outputs": [
        {
          "output_type": "execute_result",
          "data": {
            "text/plain": [
              "7"
            ]
          },
          "metadata": {},
          "execution_count": 94
        }
      ]
    },
    {
      "cell_type": "code",
      "source": [
        "len(sizes)"
      ],
      "metadata": {
        "colab": {
          "base_uri": "https://localhost:8080/"
        },
        "id": "742PNl01hN7r",
        "outputId": "cdb7031b-e92d-4a33-a017-0917edbd4094"
      },
      "execution_count": null,
      "outputs": [
        {
          "output_type": "execute_result",
          "data": {
            "text/plain": [
              "43"
            ]
          },
          "metadata": {},
          "execution_count": 93
        }
      ]
    }
  ]
}