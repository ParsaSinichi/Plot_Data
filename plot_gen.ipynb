{
  "cells": [
    {
      "cell_type": "code",
      "execution_count": 85,
      "metadata": {
        "execution": {
          "iopub.execute_input": "2023-11-14T13:59:13.707902Z",
          "iopub.status.busy": "2023-11-14T13:59:13.706838Z",
          "iopub.status.idle": "2023-11-14T13:59:13.713550Z",
          "shell.execute_reply": "2023-11-14T13:59:13.712634Z",
          "shell.execute_reply.started": "2023-11-14T13:59:13.707858Z"
        },
        "id": "aeJwHPqFGOZt",
        "trusted": true
      },
      "outputs": [],
      "source": [
        "import numpy as np\n",
        "import numpy.random as random\n",
        "import matplotlib\n",
        "matplotlib.use('agg')\n",
        "import matplotlib.pyplot as plt\n",
        "\n",
        "import os\n",
        "import cv2\n",
        "import copy"
      ]
    },
    {
      "cell_type": "code",
      "execution_count": 86,
      "metadata": {
        "colab": {
          "base_uri": "https://localhost:8080/"
        },
        "id": "2aQ44967tcUs",
        "outputId": "c455ec61-e146-4cc9-deb5-3d640f878417"
      },
      "outputs": [],
      "source": [
        "# from google.colab import drive\n",
        "# drive.mount('/content/drive')\n",
        "# drive_path = '/content/drive/MyDrive'"
      ]
    },
    {
      "cell_type": "code",
      "execution_count": 87,
      "metadata": {
        "execution": {
          "iopub.execute_input": "2023-11-14T13:59:13.716077Z",
          "iopub.status.busy": "2023-11-14T13:59:13.715726Z",
          "iopub.status.idle": "2023-11-14T13:59:13.728472Z",
          "shell.execute_reply": "2023-11-14T13:59:13.727622Z",
          "shell.execute_reply.started": "2023-11-14T13:59:13.716044Z"
        },
        "id": "xklJrGSDtV-q",
        "trusted": true
      },
      "outputs": [],
      "source": [
        "# train_data_path = drive_path + '/train_data'\n",
        "# if not os.path.exists(train_data_path):\n",
        "#     os.mkdir(train_data_path)"
      ]
    },
    {
      "cell_type": "code",
      "execution_count": 88,
      "metadata": {},
      "outputs": [],
      "source": [
        "train_data_path = './train_data_2'\n",
        "labels_path = './labels_2'\n",
        "if not os.path.exists(train_data_path):\n",
        "    os.mkdir(train_data_path)"
      ]
    },
    {
      "cell_type": "code",
      "execution_count": 89,
      "metadata": {
        "execution": {
          "iopub.execute_input": "2023-11-14T13:59:13.730901Z",
          "iopub.status.busy": "2023-11-14T13:59:13.730425Z",
          "iopub.status.idle": "2023-11-14T13:59:13.738828Z",
          "shell.execute_reply": "2023-11-14T13:59:13.737959Z",
          "shell.execute_reply.started": "2023-11-14T13:59:13.730868Z"
        },
        "id": "yEqphrtNGOZ1",
        "trusted": true
      },
      "outputs": [],
      "source": [
        "def xRand():\n",
        "    low = random.randint(-10,10)\n",
        "    high = random.randint(low+1,low+10)\n",
        "    if random.rand()>.5:\n",
        "        low -= random.rand()\n",
        "        high += random.rand()\n",
        "\n",
        "    return np.linspace(low, high,100)\n"
      ]
    },
    {
      "cell_type": "code",
      "execution_count": 90,
      "metadata": {
        "execution": {
          "iopub.execute_input": "2023-11-14T13:59:13.740091Z",
          "iopub.status.busy": "2023-11-14T13:59:13.739852Z",
          "iopub.status.idle": "2023-11-14T13:59:13.750577Z",
          "shell.execute_reply": "2023-11-14T13:59:13.749761Z",
          "shell.execute_reply.started": "2023-11-14T13:59:13.740069Z"
        },
        "id": "9YYMyfGpGOZ3",
        "trusted": true
      },
      "outputs": [],
      "source": [
        "def yRand():\n",
        "    x = xRand()\n",
        "    low = random.randint(-10,10)\n",
        "    high = random.randint(low+1,low+10)\n",
        "    f = random.rand()*(.07)\n",
        "    if random.rand()>.5:\n",
        "        low -= random.rand()\n",
        "        high += random.rand()\n",
        "    \n",
        "    if random.rand()<.2:\n",
        "        scale_exp = random.randint(-6,6)\n",
        "        high *= scale_exp\n",
        "        low *= scale_exp\n",
        "        \n",
        "\n",
        "    y = (high-low)*(np.sin(f*x)+1) + low\n",
        "    return x,y"
      ]
    },
    {
      "cell_type": "code",
      "execution_count": 91,
      "metadata": {
        "execution": {
          "iopub.execute_input": "2023-11-14T13:59:13.753615Z",
          "iopub.status.busy": "2023-11-14T13:59:13.752850Z",
          "iopub.status.idle": "2023-11-14T13:59:13.760803Z",
          "shell.execute_reply": "2023-11-14T13:59:13.759883Z",
          "shell.execute_reply.started": "2023-11-14T13:59:13.753580Z"
        },
        "id": "Mdm5dFG6GOZ4",
        "trusted": true
      },
      "outputs": [],
      "source": [
        "labels = []"
      ]
    },
    {
      "cell_type": "code",
      "execution_count": 92,
      "metadata": {
        "execution": {
          "iopub.execute_input": "2023-11-14T13:59:13.762216Z",
          "iopub.status.busy": "2023-11-14T13:59:13.761886Z",
          "iopub.status.idle": "2023-11-14T13:59:13.770393Z",
          "shell.execute_reply": "2023-11-14T13:59:13.769528Z",
          "shell.execute_reply.started": "2023-11-14T13:59:13.762183Z"
        },
        "id": "6-JkzGh5GOZ5",
        "trusted": true
      },
      "outputs": [],
      "source": [
        "def plotGenerator():\n",
        "    x,y = yRand()\n",
        "\n",
        "    plt.plot(x,y)\n",
        "    labels.append([[min(x),max(x)],[min(y),max(y)]])\n",
        "    return plt"
      ]
    },
    {
      "cell_type": "code",
      "execution_count": 93,
      "metadata": {
        "execution": {
          "iopub.execute_input": "2023-11-14T13:59:13.771707Z",
          "iopub.status.busy": "2023-11-14T13:59:13.771403Z"
        },
        "id": "62x7sA_PGOZ7",
        "trusted": true
      },
      "outputs": [],
      "source": [
        "for i in range(0,1024):\n",
        "    plotGenerator().savefig(f'{train_data_path}/{i}.jpg',dpi=75,format='jpg')\n",
        "    plt.close()"
      ]
    },
    {
      "cell_type": "code",
      "execution_count": 94,
      "metadata": {
        "id": "91x7o_ONGOZ8",
        "trusted": true
      },
      "outputs": [],
      "source": [
        "labels_array = np.array(labels)\n",
        "labels = []"
      ]
    },
    {
      "cell_type": "code",
      "execution_count": 95,
      "metadata": {
        "id": "fkAIEcHQGOZ-",
        "trusted": true
      },
      "outputs": [],
      "source": [
        "# np.save(drive_path+'/labels',labels_array)\n",
        "np.save(labels_path,labels_array)\n"
      ]
    },
    {
      "cell_type": "code",
      "execution_count": 96,
      "metadata": {},
      "outputs": [
        {
          "data": {
            "text/plain": [
              "array([[[-4.        ,  5.        ],\n",
              "        [-3.40557728, -3.20553465]],\n",
              "\n",
              "       [[ 6.        , 12.        ],\n",
              "        [ 7.24013165,  7.755604  ]],\n",
              "\n",
              "       [[-7.34934004,  1.75876819],\n",
              "        [ 2.49989394,  2.87847262]],\n",
              "\n",
              "       ...,\n",
              "\n",
              "       [[-7.35567917, -5.26643422],\n",
              "        [11.73654372, 12.07259956]],\n",
              "\n",
              "       [[ 1.        ,  6.        ],\n",
              "        [11.17961779, 12.05527988]],\n",
              "\n",
              "       [[-9.        , -2.        ],\n",
              "        [ 0.1221931 ,  3.47680904]]])"
            ]
          },
          "execution_count": 96,
          "metadata": {},
          "output_type": "execute_result"
        }
      ],
      "source": [
        "labels_array"
      ]
    }
  ],
  "metadata": {
    "colab": {
      "provenance": []
    },
    "kernelspec": {
      "display_name": "Python 3",
      "language": "python",
      "name": "python3"
    },
    "language_info": {
      "codemirror_mode": {
        "name": "ipython",
        "version": 3
      },
      "file_extension": ".py",
      "mimetype": "text/x-python",
      "name": "python",
      "nbconvert_exporter": "python",
      "pygments_lexer": "ipython3",
      "version": "3.11.5"
    }
  },
  "nbformat": 4,
  "nbformat_minor": 0
}
